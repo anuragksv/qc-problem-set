{
 "cells": [
  {
   "cell_type": "code",
   "execution_count": 149,
   "id": "1db4ace3",
   "metadata": {},
   "outputs": [],
   "source": [
    "#imports\n",
    "import numpy as np\n",
    "from numpy.linalg import eig\n",
    "import math"
   ]
  },
  {
   "cell_type": "markdown",
   "id": "c8c479da",
   "metadata": {},
   "source": [
    "### 1. Normalize a given state vector\n",
    "---"
   ]
  },
  {
   "cell_type": "code",
   "execution_count": 150,
   "id": "da396fff",
   "metadata": {},
   "outputs": [],
   "source": [
    "def normalize_vector(vector):\n",
    "    '''\n",
    "    input a numpy array as a row/column vector\n",
    "    '''\n",
    "    vector /= math.sqrt(sum(pow(abs(vector),2)))\n",
    "    return vector"
   ]
  },
  {
   "cell_type": "code",
   "execution_count": 151,
   "id": "0bcc6ad3",
   "metadata": {},
   "outputs": [
    {
     "data": {
      "text/plain": [
       "array([0.6, 0.8])"
      ]
     },
     "execution_count": 151,
     "metadata": {},
     "output_type": "execute_result"
    }
   ],
   "source": [
    "vector = np.array([3, 4], dtype = float)\n",
    "normalize_vector(vector)"
   ]
  },
  {
   "cell_type": "markdown",
   "id": "c568479f",
   "metadata": {},
   "source": [
    "### 2. Gram-Schmidt orthonormalization of a basis set.\n",
    "---\n",
    "\n",
    "$$ \n",
    "    u_k^\\vec \\ = v_k^\\vec \\ - \\sum_{i=1}^{k-1} \\frac{<v_k^\\vec \\ , u_i^\\vec \\ >}{|u_i^\\vec\\ |^2} \\ u_{i}^\\vec \\ \n",
    "$$\n"
   ]
  },
  {
   "cell_type": "code",
   "execution_count": 152,
   "id": "6a69efc3",
   "metadata": {},
   "outputs": [],
   "source": [
    "def gson(v):\n",
    "    '''\n",
    "    Input a numpy array matrix with column values as basis set to produce Gram-Schmidt Ortho-Normalized Basis set. \n",
    "    '''\n",
    "    n, m = v.shape\n",
    "    u = np.zeros(np.shape(v))\n",
    "\n",
    "    for k in range(m):\n",
    "        q = v[:,k]\n",
    "        \n",
    "        for i in range(k):\n",
    "            q -= np.dot(v[:,k],v[:,i])*v[:,i]\n",
    "        \n",
    "        q = normalize_vector(q)\n",
    "        u[:,k] = q\n",
    "    \n",
    "    return u"
   ]
  },
  {
   "cell_type": "code",
   "execution_count": 153,
   "id": "6f58f348",
   "metadata": {},
   "outputs": [
    {
     "data": {
      "text/plain": [
       "array([[1., 0., 0.],\n",
       "       [0., 0., 1.],\n",
       "       [0., 1., 0.]])"
      ]
     },
     "execution_count": 153,
     "metadata": {},
     "output_type": "execute_result"
    }
   ],
   "source": [
    "v = np.array([\n",
    "    [1, 2, 4],\n",
    "    [0, 0, 5],\n",
    "    [0, 3, 6]], \n",
    "    dtype = float)\n",
    "\n",
    "gcon(v)"
   ]
  },
  {
   "cell_type": "markdown",
   "id": "a478f2f5",
   "metadata": {},
   "source": [
    "### 3. Find a density matrix associated with a state vector $|\\psi>$."
   ]
  },
  {
   "cell_type": "code",
   "execution_count": 154,
   "id": "6621bd75",
   "metadata": {},
   "outputs": [],
   "source": [
    "def dm(psi):\n",
    "    '''\n",
    "    Input a state vector |psi> to get Density matrix associated with it.\n",
    "    '''\n",
    "    return np.outer(psi,psi)"
   ]
  },
  {
   "cell_type": "code",
   "execution_count": 155,
   "id": "235a2185",
   "metadata": {},
   "outputs": [
    {
     "data": {
      "text/plain": [
       "array([[ 1.+0.j,  0.+1.j],\n",
       "       [ 0.+1.j, -1.+0.j]])"
      ]
     },
     "execution_count": 155,
     "metadata": {},
     "output_type": "execute_result"
    }
   ],
   "source": [
    "dm([[1], [1j]])"
   ]
  },
  {
   "cell_type": "markdown",
   "id": "921ee643",
   "metadata": {},
   "source": [
    "### 4. Find whether a given $n * n$ matrix is associated with a quantum system."
   ]
  },
  {
   "cell_type": "code",
   "execution_count": 156,
   "id": "cd4dfae7",
   "metadata": {},
   "outputs": [],
   "source": [
    "def identical(A, B):\n",
    "    '''\n",
    "    Input two square matrices to know whether they are identical or not.\n",
    "    '''\n",
    "    for i in range(len(A)):\n",
    "        for j in range(len(B)):\n",
    "            if (A[i][j] != B[i][j]):\n",
    "                return False\n",
    "    \n",
    "    return True\n",
    "\n",
    "def dm_check(dm):\n",
    "    '''\n",
    "    Input a n*n matrix to check whether it is a quantum system (density matrix) or not. \n",
    "    '''\n",
    "    flag = [0,0,0,0]\n",
    "    \n",
    "    if (identical(dm.conjugate().T,dm)):\n",
    "        flag[0] = 1\n",
    "    \n",
    "    if (identical(np.matmul(dm,dm),dm)):\n",
    "        flag[1] = 1\n",
    "    \n",
    "    if (np.matmul(dm,dm).trace() <= 1):\n",
    "        flag[2] = 1\n",
    "\n",
    "    for i,x in enumerate(eig(dm)[0]):\n",
    "        if x<0:\n",
    "            flag[3] = 0\n",
    "            break\n",
    "        else:\n",
    "            flag[3] = 1\n",
    "    \n",
    "    result = all(f == 1 for f in flag)\n",
    "    return result"
   ]
  },
  {
   "cell_type": "code",
   "execution_count": 157,
   "id": "8b3193c9",
   "metadata": {},
   "outputs": [
    {
     "data": {
      "text/plain": [
       "True"
      ]
     },
     "execution_count": 157,
     "metadata": {},
     "output_type": "execute_result"
    }
   ],
   "source": [
    "dm_check(np.array(\n",
    "    [[0.5, 0, 0, 0.5], \n",
    "     [0, 0, 0, 0],\n",
    "     [0, 0, 0, 0],\n",
    "     [0.5, 0, 0, 0.5]\n",
    "    ]))"
   ]
  },
  {
   "cell_type": "markdown",
   "id": "b747a65f",
   "metadata": {},
   "source": [
    "### 5. Find whether a given density matirx $\\rho$ is associated with a pure or mixed state. "
   ]
  },
  {
   "cell_type": "code",
   "execution_count": 158,
   "id": "2f509a7c",
   "metadata": {},
   "outputs": [],
   "source": [
    "def pm_state(dm):\n",
    "    '''\n",
    "    Input a density matrix to check whether it is a pure or mixed state.\n",
    "    '''\n",
    "    t = np.matmul(dm,dm).trace()\n",
    "    \n",
    "    if (t == 1):\n",
    "        return 'Pure State'\n",
    "    elif (t < 1):\n",
    "        return 'Mixed State'\n",
    "    else:\n",
    "        return 'Not a Quantum State'"
   ]
  },
  {
   "cell_type": "code",
   "execution_count": 159,
   "id": "1ce46f83",
   "metadata": {},
   "outputs": [
    {
     "data": {
      "text/plain": [
       "'Pure State'"
      ]
     },
     "execution_count": 159,
     "metadata": {},
     "output_type": "execute_result"
    }
   ],
   "source": [
    "pm_state(np.array(\n",
    "    [[0, 0], \n",
    "     [0, 1]\n",
    "    ]))"
   ]
  }
 ],
 "metadata": {
  "kernelspec": {
   "display_name": "Python 3 (ipykernel)",
   "language": "python",
   "name": "python3"
  },
  "language_info": {
   "codemirror_mode": {
    "name": "ipython",
    "version": 3
   },
   "file_extension": ".py",
   "mimetype": "text/x-python",
   "name": "python",
   "nbconvert_exporter": "python",
   "pygments_lexer": "ipython3",
   "version": "3.8.12"
  }
 },
 "nbformat": 4,
 "nbformat_minor": 5
}
